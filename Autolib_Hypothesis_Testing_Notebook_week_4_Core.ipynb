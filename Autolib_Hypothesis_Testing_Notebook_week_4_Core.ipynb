{
  "nbformat": 4,
  "nbformat_minor": 0,
  "metadata": {
    "colab": {
      "name": "Autolib Hypothesis Testing Notebook week 4 Core",
      "provenance": [],
      "collapsed_sections": [],
      "include_colab_link": true
    },
    "kernelspec": {
      "name": "python3",
      "display_name": "Python 3"
    }
  },
  "cells": [
    {
      "cell_type": "markdown",
      "metadata": {
        "id": "view-in-github",
        "colab_type": "text"
      },
      "source": [
        "<a href=\"https://colab.research.google.com/github/davidmuna/Hypothesis-Testing/blob/master/Autolib_Hypothesis_Testing_Notebook_week_4_Core.ipynb\" target=\"_parent\"><img src=\"https://colab.research.google.com/assets/colab-badge.svg\" alt=\"Open In Colab\"/></a>"
      ]
    },
    {
      "cell_type": "markdown",
      "metadata": {
        "id": "mh5V-mRF29qO",
        "colab_type": "text"
      },
      "source": [
        "<font color=\"green\">*Working as a data scientist in an electric car-sharing service company.I will work as a Data Scientist to investigate a claim about the blue cars from the provided Autolib dataset.*</font>"
      ]
    },
    {
      "cell_type": "markdown",
      "metadata": {
        "id": "m0tgCkvzPLEa",
        "colab_type": "text"
      },
      "source": [
        "# Autolib Car Sharing Service Hypothesis Testing \n",
        "\n",
        "*   Link to [Report](https://docs.google.com/document/d/1o8l1XDqZUZ0TZUNf6f0WIXxjjizHGrSyBHcgs-plJVM/edit?usp=sharing)\n"
      ]
    },
    {
      "cell_type": "markdown",
      "metadata": {
        "colab_type": "text",
        "id": "VSnOCZ5-IPCi"
      },
      "source": [
        "## 1.0 Importing our Libraries"
      ]
    },
    {
      "cell_type": "code",
      "metadata": {
        "id": "3r-KDLvrO44a",
        "colab_type": "code",
        "colab": {}
      },
      "source": [
        "# Importing the pandas and numpy libraries\n",
        "\n",
        "import pandas as pd\n",
        "import numpy as np\n",
        "import matplotlib.pyplot as plt\n",
        "import seaborn as sns"
      ],
      "execution_count": 51,
      "outputs": []
    },
    {
      "cell_type": "markdown",
      "metadata": {
        "id": "HToJZ2gBPawZ",
        "colab_type": "text"
      },
      "source": [
        "## 1.1 Loading the Dataset from our CSV files\n",
        "\n",
        "\n"
      ]
    },
    {
      "cell_type": "markdown",
      "metadata": {
        "id": "LBUr8VUXQX-K",
        "colab_type": "text"
      },
      "source": [
        "\n",
        "*   Dataset link for download or access: [http://bit.ly/DSCoreAutolibDataset\n",
        "\n",
        "*   Dataset Description link for download or access:[http://bit.ly/DSCoreAutolibDatasetGlossary\n",
        "\n",
        "\n",
        "\n"
      ]
    },
    {
      "cell_type": "markdown",
      "metadata": {
        "colab_type": "text",
        "id": "Vd-5Xne-uCui"
      },
      "source": [
        "\n",
        "\n",
        "Creating and reading our DataFrame\n",
        "\n",
        "\n",
        "\n"
      ]
    },
    {
      "cell_type": "code",
      "metadata": {
        "id": "1acwmZanRNHs",
        "colab_type": "code",
        "colab": {}
      },
      "source": [
        "# reading the dataset and creating a dataframe\n",
        "autolib = pd.read_csv('http://bit.ly/DSCoreAutolibDataset')"
      ],
      "execution_count": 52,
      "outputs": []
    },
    {
      "cell_type": "markdown",
      "metadata": {
        "id": "IICLGbvBRYHq",
        "colab_type": "text"
      },
      "source": [
        "## 1.2 Previewing our dataframe and accessing information about it\n"
      ]
    },
    {
      "cell_type": "code",
      "metadata": {
        "id": "WrwHg-hzR5BY",
        "colab_type": "code",
        "colab": {
          "base_uri": "https://localhost:8080/",
          "height": 179
        },
        "outputId": "5e2ad1db-4d90-4e76-abfa-318ba7225256"
      },
      "source": [
        "# Previewing our dataframe (3 rows)\n",
        "autolib.head(3)"
      ],
      "execution_count": 53,
      "outputs": [
        {
          "output_type": "execute_result",
          "data": {
            "text/html": [
              "<div>\n",
              "<style scoped>\n",
              "    .dataframe tbody tr th:only-of-type {\n",
              "        vertical-align: middle;\n",
              "    }\n",
              "\n",
              "    .dataframe tbody tr th {\n",
              "        vertical-align: top;\n",
              "    }\n",
              "\n",
              "    .dataframe thead th {\n",
              "        text-align: right;\n",
              "    }\n",
              "</style>\n",
              "<table border=\"1\" class=\"dataframe\">\n",
              "  <thead>\n",
              "    <tr style=\"text-align: right;\">\n",
              "      <th></th>\n",
              "      <th>Postal code</th>\n",
              "      <th>date</th>\n",
              "      <th>n_daily_data_points</th>\n",
              "      <th>dayOfWeek</th>\n",
              "      <th>day_type</th>\n",
              "      <th>BlueCars_taken_sum</th>\n",
              "      <th>BlueCars_returned_sum</th>\n",
              "      <th>Utilib_taken_sum</th>\n",
              "      <th>Utilib_returned_sum</th>\n",
              "      <th>Utilib_14_taken_sum</th>\n",
              "      <th>Utilib_14_returned_sum</th>\n",
              "      <th>Slots_freed_sum</th>\n",
              "      <th>Slots_taken_sum</th>\n",
              "    </tr>\n",
              "  </thead>\n",
              "  <tbody>\n",
              "    <tr>\n",
              "      <th>0</th>\n",
              "      <td>75001</td>\n",
              "      <td>1/1/2018</td>\n",
              "      <td>1440</td>\n",
              "      <td>0</td>\n",
              "      <td>weekday</td>\n",
              "      <td>110</td>\n",
              "      <td>103</td>\n",
              "      <td>3</td>\n",
              "      <td>2</td>\n",
              "      <td>10</td>\n",
              "      <td>9</td>\n",
              "      <td>22</td>\n",
              "      <td>20</td>\n",
              "    </tr>\n",
              "    <tr>\n",
              "      <th>1</th>\n",
              "      <td>75001</td>\n",
              "      <td>1/2/2018</td>\n",
              "      <td>1438</td>\n",
              "      <td>1</td>\n",
              "      <td>weekday</td>\n",
              "      <td>98</td>\n",
              "      <td>94</td>\n",
              "      <td>1</td>\n",
              "      <td>1</td>\n",
              "      <td>8</td>\n",
              "      <td>8</td>\n",
              "      <td>23</td>\n",
              "      <td>22</td>\n",
              "    </tr>\n",
              "    <tr>\n",
              "      <th>2</th>\n",
              "      <td>75001</td>\n",
              "      <td>1/3/2018</td>\n",
              "      <td>1439</td>\n",
              "      <td>2</td>\n",
              "      <td>weekday</td>\n",
              "      <td>138</td>\n",
              "      <td>139</td>\n",
              "      <td>0</td>\n",
              "      <td>0</td>\n",
              "      <td>2</td>\n",
              "      <td>2</td>\n",
              "      <td>27</td>\n",
              "      <td>27</td>\n",
              "    </tr>\n",
              "  </tbody>\n",
              "</table>\n",
              "</div>"
            ],
            "text/plain": [
              "   Postal code      date  ...  Slots_freed_sum  Slots_taken_sum\n",
              "0        75001  1/1/2018  ...               22               20\n",
              "1        75001  1/2/2018  ...               23               22\n",
              "2        75001  1/3/2018  ...               27               27\n",
              "\n",
              "[3 rows x 13 columns]"
            ]
          },
          "metadata": {
            "tags": []
          },
          "execution_count": 53
        }
      ]
    },
    {
      "cell_type": "markdown",
      "metadata": {
        "id": "RAVzK5O6IR8v",
        "colab_type": "text"
      },
      "source": [
        "## 1.3 Accessing Information about our Dataset"
      ]
    },
    {
      "cell_type": "code",
      "metadata": {
        "id": "0d2kfemDIYWI",
        "colab_type": "code",
        "colab": {
          "base_uri": "https://localhost:8080/",
          "height": 374
        },
        "outputId": "17766050-e161-4acd-8b94-d4162dd9488c"
      },
      "source": [
        "#Accessing information about our data\n",
        "autolib.info()\n",
        "autolib.shape\n",
        "\n",
        "#Dataset has no missing data"
      ],
      "execution_count": 54,
      "outputs": [
        {
          "output_type": "stream",
          "text": [
            "<class 'pandas.core.frame.DataFrame'>\n",
            "RangeIndex: 16085 entries, 0 to 16084\n",
            "Data columns (total 13 columns):\n",
            " #   Column                  Non-Null Count  Dtype \n",
            "---  ------                  --------------  ----- \n",
            " 0   Postal code             16085 non-null  int64 \n",
            " 1   date                    16085 non-null  object\n",
            " 2   n_daily_data_points     16085 non-null  int64 \n",
            " 3   dayOfWeek               16085 non-null  int64 \n",
            " 4   day_type                16085 non-null  object\n",
            " 5   BlueCars_taken_sum      16085 non-null  int64 \n",
            " 6   BlueCars_returned_sum   16085 non-null  int64 \n",
            " 7   Utilib_taken_sum        16085 non-null  int64 \n",
            " 8   Utilib_returned_sum     16085 non-null  int64 \n",
            " 9   Utilib_14_taken_sum     16085 non-null  int64 \n",
            " 10  Utilib_14_returned_sum  16085 non-null  int64 \n",
            " 11  Slots_freed_sum         16085 non-null  int64 \n",
            " 12  Slots_taken_sum         16085 non-null  int64 \n",
            "dtypes: int64(11), object(2)\n",
            "memory usage: 1.6+ MB\n"
          ],
          "name": "stdout"
        },
        {
          "output_type": "execute_result",
          "data": {
            "text/plain": [
              "(16085, 13)"
            ]
          },
          "metadata": {
            "tags": []
          },
          "execution_count": 54
        }
      ]
    },
    {
      "cell_type": "markdown",
      "metadata": {
        "id": "R9S2o1WXIhq1",
        "colab_type": "text"
      },
      "source": [
        "## 1.4 <font color=\"green\">Cleaning and dealing with outliers, anomalies and missing data</font>"
      ]
    },
    {
      "cell_type": "code",
      "metadata": {
        "id": "8n6lZYUT0X8O",
        "colab_type": "code",
        "colab": {
          "base_uri": "https://localhost:8080/",
          "height": 173
        },
        "outputId": "6d8fbfa0-b8b7-4aa2-b79c-be2b555eaecf"
      },
      "source": [
        "# Renaming columns, fixing syntax errors and putting column names them in lower case for standardisation\n",
        "\n",
        "autolib.columns = autolib.columns.str.strip().str.lower().str.replace(' ', '_').str.replace('1.4', '14').str.replace('_sum', '')\n",
        "\n",
        "#Changing date column to datetime\n",
        "autolib['date']= pd.to_datetime(autolib['date']) \n",
        "\n",
        "#Dropping unwanted columns\n",
        "autolib1 = autolib.drop(columns=['utilib_taken','utilib_returned','utilib_14_taken','utilib_14_returned','bluecars_returned','slots_taken'])\n",
        "\n",
        "#Date column is the correct data type, let’s set it as the DataFrame’s index\n",
        "autolib1 = autolib1.set_index('date')\n",
        "autolib1.head(3)"
      ],
      "execution_count": 55,
      "outputs": [
        {
          "output_type": "execute_result",
          "data": {
            "text/html": [
              "<div>\n",
              "<style scoped>\n",
              "    .dataframe tbody tr th:only-of-type {\n",
              "        vertical-align: middle;\n",
              "    }\n",
              "\n",
              "    .dataframe tbody tr th {\n",
              "        vertical-align: top;\n",
              "    }\n",
              "\n",
              "    .dataframe thead th {\n",
              "        text-align: right;\n",
              "    }\n",
              "</style>\n",
              "<table border=\"1\" class=\"dataframe\">\n",
              "  <thead>\n",
              "    <tr style=\"text-align: right;\">\n",
              "      <th></th>\n",
              "      <th>postal_code</th>\n",
              "      <th>n_daily_data_points</th>\n",
              "      <th>dayofweek</th>\n",
              "      <th>day_type</th>\n",
              "      <th>bluecars_taken</th>\n",
              "      <th>slots_freed</th>\n",
              "    </tr>\n",
              "    <tr>\n",
              "      <th>date</th>\n",
              "      <th></th>\n",
              "      <th></th>\n",
              "      <th></th>\n",
              "      <th></th>\n",
              "      <th></th>\n",
              "      <th></th>\n",
              "    </tr>\n",
              "  </thead>\n",
              "  <tbody>\n",
              "    <tr>\n",
              "      <th>2018-01-01</th>\n",
              "      <td>75001</td>\n",
              "      <td>1440</td>\n",
              "      <td>0</td>\n",
              "      <td>weekday</td>\n",
              "      <td>110</td>\n",
              "      <td>22</td>\n",
              "    </tr>\n",
              "    <tr>\n",
              "      <th>2018-01-02</th>\n",
              "      <td>75001</td>\n",
              "      <td>1438</td>\n",
              "      <td>1</td>\n",
              "      <td>weekday</td>\n",
              "      <td>98</td>\n",
              "      <td>23</td>\n",
              "    </tr>\n",
              "    <tr>\n",
              "      <th>2018-01-03</th>\n",
              "      <td>75001</td>\n",
              "      <td>1439</td>\n",
              "      <td>2</td>\n",
              "      <td>weekday</td>\n",
              "      <td>138</td>\n",
              "      <td>27</td>\n",
              "    </tr>\n",
              "  </tbody>\n",
              "</table>\n",
              "</div>"
            ],
            "text/plain": [
              "            postal_code  n_daily_data_points  ...  bluecars_taken slots_freed\n",
              "date                                          ...                            \n",
              "2018-01-01        75001                 1440  ...             110          22\n",
              "2018-01-02        75001                 1438  ...              98          23\n",
              "2018-01-03        75001                 1439  ...             138          27\n",
              "\n",
              "[3 rows x 6 columns]"
            ]
          },
          "metadata": {
            "tags": []
          },
          "execution_count": 55
        }
      ]
    },
    {
      "cell_type": "code",
      "metadata": {
        "id": "g-qzyoFDBzA3",
        "colab_type": "code",
        "colab": {
          "base_uri": "https://localhost:8080/",
          "height": 173
        },
        "outputId": "ae6d063b-02e2-480e-934d-c05878f8b193"
      },
      "source": [
        "#Viewing the tail\n",
        "autolib1.tail(3)"
      ],
      "execution_count": 56,
      "outputs": [
        {
          "output_type": "execute_result",
          "data": {
            "text/html": [
              "<div>\n",
              "<style scoped>\n",
              "    .dataframe tbody tr th:only-of-type {\n",
              "        vertical-align: middle;\n",
              "    }\n",
              "\n",
              "    .dataframe tbody tr th {\n",
              "        vertical-align: top;\n",
              "    }\n",
              "\n",
              "    .dataframe thead th {\n",
              "        text-align: right;\n",
              "    }\n",
              "</style>\n",
              "<table border=\"1\" class=\"dataframe\">\n",
              "  <thead>\n",
              "    <tr style=\"text-align: right;\">\n",
              "      <th></th>\n",
              "      <th>postal_code</th>\n",
              "      <th>n_daily_data_points</th>\n",
              "      <th>dayofweek</th>\n",
              "      <th>day_type</th>\n",
              "      <th>bluecars_taken</th>\n",
              "      <th>slots_freed</th>\n",
              "    </tr>\n",
              "    <tr>\n",
              "      <th>date</th>\n",
              "      <th></th>\n",
              "      <th></th>\n",
              "      <th></th>\n",
              "      <th></th>\n",
              "      <th></th>\n",
              "      <th></th>\n",
              "    </tr>\n",
              "  </thead>\n",
              "  <tbody>\n",
              "    <tr>\n",
              "      <th>2018-06-17</th>\n",
              "      <td>95880</td>\n",
              "      <td>1440</td>\n",
              "      <td>6</td>\n",
              "      <td>weekend</td>\n",
              "      <td>33</td>\n",
              "      <td>0</td>\n",
              "    </tr>\n",
              "    <tr>\n",
              "      <th>2018-06-18</th>\n",
              "      <td>95880</td>\n",
              "      <td>1440</td>\n",
              "      <td>0</td>\n",
              "      <td>weekday</td>\n",
              "      <td>11</td>\n",
              "      <td>0</td>\n",
              "    </tr>\n",
              "    <tr>\n",
              "      <th>2018-06-19</th>\n",
              "      <td>95880</td>\n",
              "      <td>1370</td>\n",
              "      <td>1</td>\n",
              "      <td>weekday</td>\n",
              "      <td>2</td>\n",
              "      <td>0</td>\n",
              "    </tr>\n",
              "  </tbody>\n",
              "</table>\n",
              "</div>"
            ],
            "text/plain": [
              "            postal_code  n_daily_data_points  ...  bluecars_taken slots_freed\n",
              "date                                          ...                            \n",
              "2018-06-17        95880                 1440  ...              33           0\n",
              "2018-06-18        95880                 1440  ...              11           0\n",
              "2018-06-19        95880                 1370  ...               2           0\n",
              "\n",
              "[3 rows x 6 columns]"
            ]
          },
          "metadata": {
            "tags": []
          },
          "execution_count": 56
        }
      ]
    },
    {
      "cell_type": "code",
      "metadata": {
        "id": "fGR0p3580fCX",
        "colab_type": "code",
        "colab": {
          "base_uri": "https://localhost:8080/",
          "height": 287
        },
        "outputId": "35733086-efb0-446b-f9fd-6e912d8a31dd"
      },
      "source": [
        "#Viewing the presense or absense of Outliers using a box plot for bluecars_taken\n",
        "\n",
        "autolib1.boxplot(column =['bluecars_taken'], grid = False) "
      ],
      "execution_count": 57,
      "outputs": [
        {
          "output_type": "execute_result",
          "data": {
            "text/plain": [
              "<matplotlib.axes._subplots.AxesSubplot at 0x7f2473b22c18>"
            ]
          },
          "metadata": {
            "tags": []
          },
          "execution_count": 57
        },
        {
          "output_type": "display_data",
          "data": {
            "image/png": "[encoded data removed]",
            "text/plain": [
              "<Figure size 432x288 with 1 Axes>"
            ]
          },
          "metadata": {
            "tags": []
          }
        }
      ]
    },
    {
      "cell_type": "code",
      "metadata": {
        "id": "Y9jL-I7vIaJG",
        "colab_type": "code",
        "colab": {
          "base_uri": "https://localhost:8080/",
          "height": 34
        },
        "outputId": "99ac8804-796c-4b09-d1bc-c4ed296148a1"
      },
      "source": [
        "#Skewness for bluecars_taken\n",
        "autolib1['bluecars_taken'].skew()\n",
        "\n",
        "#bluecars_taken is skewed to the right indicating outliers in the upper quantile and that its slightly not normally distributed"
      ],
      "execution_count": 58,
      "outputs": [
        {
          "output_type": "execute_result",
          "data": {
            "text/plain": [
              "2.4063548974959086"
            ]
          },
          "metadata": {
            "tags": []
          },
          "execution_count": 58
        }
      ]
    },
    {
      "cell_type": "code",
      "metadata": {
        "id": "R7d4gU7uIhVY",
        "colab_type": "code",
        "colab": {
          "base_uri": "https://localhost:8080/",
          "height": 136
        },
        "outputId": "f4bdcbca-562f-4936-891d-381de124d818"
      },
      "source": [
        "#Checking for Anomalies\n",
        "#Unique values check\n",
        "print(autolib1.nunique())"
      ],
      "execution_count": 59,
      "outputs": [
        {
          "output_type": "stream",
          "text": [
            "postal_code            104\n",
            "n_daily_data_points     23\n",
            "dayofweek                7\n",
            "day_type                 2\n",
            "bluecars_taken         932\n",
            "slots_freed            297\n",
            "dtype: int64\n"
          ],
          "name": "stdout"
        }
      ]
    },
    {
      "cell_type": "markdown",
      "metadata": {
        "colab_type": "text",
        "id": "7bCanJLJQLaq"
      },
      "source": [
        "*   Unique values in the columns looks okay. No anomalies\n",
        "*   The outliers in n_daily_data_points\tand bluecars_taken seem to be a large due to the skewness.However, the blucars_taken is slightly skewed so we'll remove the outliers in the upper quantile range and check skewness again for normality.\n",
        "*   For slots_freed, there are a large number of outliers as well hence we'll retain them\n",
        "*   There are no missing values\n",
        "\n",
        "\n",
        "\n",
        "\n",
        "\n"
      ]
    },
    {
      "cell_type": "markdown",
      "metadata": {
        "id": "NicC8P9LMjvO",
        "colab_type": "text"
      },
      "source": [
        "#### 1.5 RESEARCH QUESTION:\n",
        "\n",
        "TO IDENTIFY THE TOP THREE POSTAL CODE/AREAS THAT HAVE THE HIGHEST NUMBER OF BLUE CARS TAKEN DURING THE WEEKDAY AND DETERMINE IF THEY ARE THE SAME FOR THE 75015 & 75017 POSTAL CODE AREAS."
      ]
    },
    {
      "cell_type": "markdown",
      "metadata": {
        "id": "8izhaW7UNYGJ",
        "colab_type": "text"
      },
      "source": [
        "## <font color=\"green\">Univariate Summaries<font/>"
      ]
    },
    {
      "cell_type": "code",
      "metadata": {
        "id": "x3l_5T1ewQSw",
        "colab_type": "code",
        "colab": {
          "base_uri": "https://localhost:8080/",
          "height": 111
        },
        "outputId": "74efdb45-0a48-424d-80fc-e7653083145a"
      },
      "source": [
        "#Identifying number of blucars taken in every area/postal code during the weekend sorted in descending order\n",
        "#creating a filter variable for weekend\n",
        "weekend = autolib1['day_type'] == 'weekend'\n",
        "\n",
        "autolibweekend = autolib1[weekend].groupby('postal_code')['bluecars_taken'].sum().sort_values(ascending = False).reset_index(name = 'bluecars_taken').rename(columns = {'0':''})\n",
        "autolibweekend = pd.DataFrame(autolibweekend)\n",
        "\n",
        "#filtering areas 75015 and 75017\n",
        "area_15 = autolibweekend['postal_code']==75015\n",
        "area_17 = autolibweekend['postal_code']==75017\n",
        "\n",
        "autolibweekend[area_15|area_17]"
      ],
      "execution_count": 60,
      "outputs": [
        {
          "output_type": "execute_result",
          "data": {
            "text/html": [
              "<div>\n",
              "<style scoped>\n",
              "    .dataframe tbody tr th:only-of-type {\n",
              "        vertical-align: middle;\n",
              "    }\n",
              "\n",
              "    .dataframe tbody tr th {\n",
              "        vertical-align: top;\n",
              "    }\n",
              "\n",
              "    .dataframe thead th {\n",
              "        text-align: right;\n",
              "    }\n",
              "</style>\n",
              "<table border=\"1\" class=\"dataframe\">\n",
              "  <thead>\n",
              "    <tr style=\"text-align: right;\">\n",
              "      <th></th>\n",
              "      <th>postal_code</th>\n",
              "      <th>bluecars_taken</th>\n",
              "    </tr>\n",
              "  </thead>\n",
              "  <tbody>\n",
              "    <tr>\n",
              "      <th>0</th>\n",
              "      <td>75015</td>\n",
              "      <td>47202</td>\n",
              "    </tr>\n",
              "    <tr>\n",
              "      <th>2</th>\n",
              "      <td>75017</td>\n",
              "      <td>36565</td>\n",
              "    </tr>\n",
              "  </tbody>\n",
              "</table>\n",
              "</div>"
            ],
            "text/plain": [
              "   postal_code  bluecars_taken\n",
              "0        75015           47202\n",
              "2        75017           36565"
            ]
          },
          "metadata": {
            "tags": []
          },
          "execution_count": 60
        }
      ]
    },
    {
      "cell_type": "code",
      "metadata": {
        "colab_type": "code",
        "id": "XK69rp1M63xj",
        "colab": {
          "base_uri": "https://localhost:8080/",
          "height": 111
        },
        "outputId": "04aafbd0-9c43-4462-d5fb-33ba04cd5fe8"
      },
      "source": [
        "#Identifying number of blucars taken in every area/postal code during the weekday sorted in descending order\n",
        "#Filter variable for weekday\n",
        "weekday = autolib1['day_type'] == 'weekday'\n",
        "\n",
        "autolibweekday = autolib1[weekday].groupby('postal_code')['bluecars_taken'].sum().sort_values(ascending = False).reset_index(name = 'bluecars_taken').rename(columns = {'0':''})\n",
        "autolibweekday = pd.DataFrame(autolibweekday)\n",
        "\n",
        "area_15 = autolibweekday['postal_code']==75015\n",
        "area_17 = autolibweekday['postal_code']==75017\n",
        "\n",
        "#filtering areas 75015 and 75017\n",
        "area_17and15_weekday = autolibweekday[area_15|area_17]\n",
        "area_17and15_weekday"
      ],
      "execution_count": 61,
      "outputs": [
        {
          "output_type": "execute_result",
          "data": {
            "text/html": [
              "<div>\n",
              "<style scoped>\n",
              "    .dataframe tbody tr th:only-of-type {\n",
              "        vertical-align: middle;\n",
              "    }\n",
              "\n",
              "    .dataframe tbody tr th {\n",
              "        vertical-align: top;\n",
              "    }\n",
              "\n",
              "    .dataframe thead th {\n",
              "        text-align: right;\n",
              "    }\n",
              "</style>\n",
              "<table border=\"1\" class=\"dataframe\">\n",
              "  <thead>\n",
              "    <tr style=\"text-align: right;\">\n",
              "      <th></th>\n",
              "      <th>postal_code</th>\n",
              "      <th>bluecars_taken</th>\n",
              "    </tr>\n",
              "  </thead>\n",
              "  <tbody>\n",
              "    <tr>\n",
              "      <th>0</th>\n",
              "      <td>75015</td>\n",
              "      <td>92723</td>\n",
              "    </tr>\n",
              "    <tr>\n",
              "      <th>2</th>\n",
              "      <td>75017</td>\n",
              "      <td>78016</td>\n",
              "    </tr>\n",
              "  </tbody>\n",
              "</table>\n",
              "</div>"
            ],
            "text/plain": [
              "   postal_code  bluecars_taken\n",
              "0        75015           92723\n",
              "2        75017           78016"
            ]
          },
          "metadata": {
            "tags": []
          },
          "execution_count": 61
        }
      ]
    },
    {
      "cell_type": "markdown",
      "metadata": {
        "id": "xIfJm8TfTy1Q",
        "colab_type": "text"
      },
      "source": [
        "Our period of choice is weekdays because we identified theres more activity on weekdays compared to weekends."
      ]
    },
    {
      "cell_type": "code",
      "metadata": {
        "id": "2tlewDKR-Ne-",
        "colab_type": "code",
        "colab": {
          "base_uri": "https://localhost:8080/",
          "height": 310
        },
        "outputId": "852c7efc-e020-4fde-fed8-3685e6fc50f9"
      },
      "source": [
        "#bluecars taken for area/postal codes 75015 and 75017 bar chart on weekdays\n",
        "sns.set(style=\"whitegrid\")\n",
        "plt.title(\"Blue Cars Taken in Area/Postal Code 75015 & 75017 during weekdays\")\n",
        "plt.tight_layout()\n",
        "ax = sns.barplot(x=\"postal_code\", y=\"bluecars_taken\", data=area_17and15_weekday)"
      ],
      "execution_count": 62,
      "outputs": [
        {
          "output_type": "display_data",
          "data": {
            "image/png": "[encoded data removed]",
            "text/plain": [
              "<Figure size 432x288 with 1 Axes>"
            ]
          },
          "metadata": {
            "tags": []
          }
        }
      ]
    },
    {
      "cell_type": "code",
      "metadata": {
        "id": "us9PpwxYQEiQ",
        "colab_type": "code",
        "colab": {
          "base_uri": "https://localhost:8080/",
          "height": 297
        },
        "outputId": "ebb80b5a-b5bc-4b43-d66d-6fd62278486d"
      },
      "source": [
        "#Summary statistics for the dataset\n",
        "\n",
        "autolib_summarystat = autolib1.drop(columns=['n_daily_data_points','day_type','slots_freed','dayofweek','postal_code'])\n",
        "autolib_summarystat.describe()"
      ],
      "execution_count": 63,
      "outputs": [
        {
          "output_type": "execute_result",
          "data": {
            "text/html": [
              "<div>\n",
              "<style scoped>\n",
              "    .dataframe tbody tr th:only-of-type {\n",
              "        vertical-align: middle;\n",
              "    }\n",
              "\n",
              "    .dataframe tbody tr th {\n",
              "        vertical-align: top;\n",
              "    }\n",
              "\n",
              "    .dataframe thead th {\n",
              "        text-align: right;\n",
              "    }\n",
              "</style>\n",
              "<table border=\"1\" class=\"dataframe\">\n",
              "  <thead>\n",
              "    <tr style=\"text-align: right;\">\n",
              "      <th></th>\n",
              "      <th>bluecars_taken</th>\n",
              "    </tr>\n",
              "  </thead>\n",
              "  <tbody>\n",
              "    <tr>\n",
              "      <th>count</th>\n",
              "      <td>16085.000000</td>\n",
              "    </tr>\n",
              "    <tr>\n",
              "      <th>mean</th>\n",
              "      <td>125.926951</td>\n",
              "    </tr>\n",
              "    <tr>\n",
              "      <th>std</th>\n",
              "      <td>185.426579</td>\n",
              "    </tr>\n",
              "    <tr>\n",
              "      <th>min</th>\n",
              "      <td>0.000000</td>\n",
              "    </tr>\n",
              "    <tr>\n",
              "      <th>25%</th>\n",
              "      <td>20.000000</td>\n",
              "    </tr>\n",
              "    <tr>\n",
              "      <th>50%</th>\n",
              "      <td>46.000000</td>\n",
              "    </tr>\n",
              "    <tr>\n",
              "      <th>75%</th>\n",
              "      <td>135.000000</td>\n",
              "    </tr>\n",
              "    <tr>\n",
              "      <th>max</th>\n",
              "      <td>1352.000000</td>\n",
              "    </tr>\n",
              "  </tbody>\n",
              "</table>\n",
              "</div>"
            ],
            "text/plain": [
              "       bluecars_taken\n",
              "count    16085.000000\n",
              "mean       125.926951\n",
              "std        185.426579\n",
              "min          0.000000\n",
              "25%         20.000000\n",
              "50%         46.000000\n",
              "75%        135.000000\n",
              "max       1352.000000"
            ]
          },
          "metadata": {
            "tags": []
          },
          "execution_count": 63
        }
      ]
    },
    {
      "cell_type": "code",
      "metadata": {
        "id": "fZzFii_sRKRF",
        "colab_type": "code",
        "colab": {
          "base_uri": "https://localhost:8080/",
          "height": 187
        },
        "outputId": "a0c5578c-3a12-4042-cece-c80e3459cf38"
      },
      "source": [
        "print(\"Population Variance for \", autolib_summarystat.var())\n",
        "print(\"Population Median for \", autolib_summarystat.median())\n",
        "print(\"Population Mode for \", autolib_summarystat.median())\n",
        "print(\"Population Skew for \", autolib_summarystat.skew())\n",
        "print(\"Population Kurtosis for \", autolib_summarystat.kurt())"
      ],
      "execution_count": 64,
      "outputs": [
        {
          "output_type": "stream",
          "text": [
            "Population Variance for  bluecars_taken    34383.016113\n",
            "dtype: float64\n",
            "Population Median for  bluecars_taken    46.0\n",
            "dtype: float64\n",
            "Population Mode for  bluecars_taken    46.0\n",
            "dtype: float64\n",
            "Population Skew for  bluecars_taken    2.406355\n",
            "dtype: float64\n",
            "Population Kurtosis for  bluecars_taken    6.172692\n",
            "dtype: float64\n"
          ],
          "name": "stdout"
        }
      ]
    },
    {
      "cell_type": "markdown",
      "metadata": {
        "id": "h2aSJyl4Khb7",
        "colab_type": "text"
      },
      "source": [
        "## <font color=\"green\">Bivariate Summaries<font/>"
      ]
    },
    {
      "cell_type": "code",
      "metadata": {
        "id": "5RHBhwW9SV9e",
        "colab_type": "code",
        "colab": {
          "base_uri": "https://localhost:8080/",
          "height": 453
        },
        "outputId": "5c476cc8-749a-4a3d-b8c7-e19ce757403d"
      },
      "source": [
        "#Correlation Matrix\n",
        "autolib_corr = autolib1.drop(columns=['n_daily_data_points','slots_freed'])\n",
        "\n",
        "autolib_corr= autolib_corr.corr(method='pearson')\n",
        "\n",
        "#Chosing the size of the heatmap\n",
        "plt.figure(figsize = (12,7)) \n",
        "\n",
        "#Displaying correlations using the seaborn heatmap \n",
        "sns.heatmap(autolib_corr, \n",
        "            xticklabels=autolib_corr.columns,\n",
        "            yticklabels=autolib_corr.columns,\n",
        "            cmap='RdBu_r',\n",
        "            annot=True,\n",
        "            linewidth=0.8)\n",
        "\n",
        "#Theres a strong negative correlation between the postal code/area and the number of blue cars taken with a coefficient of -0.7"
      ],
      "execution_count": 65,
      "outputs": [
        {
          "output_type": "execute_result",
          "data": {
            "text/plain": [
              "<matplotlib.axes._subplots.AxesSubplot at 0x7f2473a600b8>"
            ]
          },
          "metadata": {
            "tags": []
          },
          "execution_count": 65
        },
        {
          "output_type": "display_data",
          "data": {
            "image/png": "[encoded data removed]",
            "text/plain": [
              "<Figure size 864x504 with 2 Axes>"
            ]
          },
          "metadata": {
            "tags": []
          }
        }
      ]
    },
    {
      "cell_type": "code",
      "metadata": {
        "id": "-T1ILSdKGT_Z",
        "colab_type": "code",
        "colab": {
          "base_uri": "https://localhost:8080/",
          "height": 524
        },
        "outputId": "4436ece2-b992-43a4-c397-af7c72135038"
      },
      "source": [
        "#Plotting a time series for bluecars taken during the weekday for postal codes 75015 and 75017\n",
        "autolib2 = autolib1[weekday]\n",
        "\n",
        "autolib3 = autolib2.drop(columns=['n_daily_data_points','day_type','slots_freed','dayofweek'])\n",
        "\n",
        "area_75015 = autolib3['postal_code']==75015\n",
        "area_75017 = autolib3['postal_code']==75017\n",
        "\n",
        "autolib75015 = autolib3[area_75015]\n",
        "autolib75017 = autolib3[area_75017]\n",
        "\n",
        "axes = autolib75015['bluecars_taken'].plot(marker='.', alpha=0.5, linestyle='-', figsize=(11, 9), subplots=True, color='blue')\n",
        "for ax in axes:\n",
        "    ax.set_ylabel('Blue Cars Taken')\n",
        "    ax.set_xlabel('Month')\n",
        "    ax.set_title('Time Series of Blue Cars taken in postal code 75015(Blue) and 75017(Red) within the 6 month period')\n",
        "\n",
        "axes2 = autolib75017['bluecars_taken'].plot(marker='.', alpha=0.5, linestyle='-', figsize=(11, 9), subplots=True, color='red')\n",
        "for ax in axes2:\n",
        "    ax.set_ylabel('Blue Cars Taken')\n",
        "    ax.set_xlabel('Month')\n",
        "    ax.set_title('Time Series of Blue Cars taken in postal code 75015(Blue) and 75017(Red) within the 6 month period')"
      ],
      "execution_count": 66,
      "outputs": [
        {
          "output_type": "display_data",
          "data": {
            "image/png": "[encoded data removed]",
            "text/plain": [
              "<Figure size 792x648 with 1 Axes>"
            ]
          },
          "metadata": {
            "tags": []
          }
        }
      ]
    },
    {
      "cell_type": "code",
      "metadata": {
        "id": "RsaG9JlCV94y",
        "colab_type": "code",
        "colab": {
          "base_uri": "https://localhost:8080/",
          "height": 322
        },
        "outputId": "e764c049-b4ac-4c90-b6e8-e59b355d3c70"
      },
      "source": [
        "#Checking Time Series Seasonality by day of the weekday\n",
        "\n",
        "autolib_dayseason = autolib2.drop(columns=['n_daily_data_points','day_type','slots_freed'])\n",
        "\n",
        "area_season15 = autolib_dayseason['postal_code']==75015\n",
        "area_season17 = autolib_dayseason['postal_code']==75017\n",
        "\n",
        "autolib_dayseason15 = autolib_dayseason[area_75015]\n",
        "autolib_dayseason17 = autolib_dayseason[area_75017]\n",
        "\n",
        "sns.boxplot(data=autolib_dayseason15, x='dayofweek', y='bluecars_taken');\n",
        "plt.xlabel(\"Day of Week (0-Mon, 4-Fri)\", fontsize=15)\n",
        "plt.ylabel(\"Blue Cars Taken\", fontsize=15)\n",
        "plt.title(\"Weekly Seasonality for Blue Cars Taken in Area/Postal Code 75015\", fontsize=15)"
      ],
      "execution_count": 73,
      "outputs": [
        {
          "output_type": "execute_result",
          "data": {
            "text/plain": [
              "Text(0.5, 1.0, 'Weekly Seasonality for Blue Cars Taken in Area/Postal Code 75015')"
            ]
          },
          "metadata": {
            "tags": []
          },
          "execution_count": 73
        },
        {
          "output_type": "display_data",
          "data": {
            "image/png": "[encoded data removed]",
            "text/plain": [
              "<Figure size 432x288 with 1 Axes>"
            ]
          },
          "metadata": {
            "tags": []
          }
        }
      ]
    },
    {
      "cell_type": "markdown",
      "metadata": {
        "colab_type": "text",
        "id": "HgEKsTLtcUs9"
      },
      "source": [
        "Weekly Seasonality for Area 75015 indicates a steady increase in number of bluecars taken from Monday to Friday. Friday being the highest. "
      ]
    },
    {
      "cell_type": "code",
      "metadata": {
        "id": "fQWkwlMubjbP",
        "colab_type": "code",
        "colab": {
          "base_uri": "https://localhost:8080/",
          "height": 322
        },
        "outputId": "33a895f4-681c-4b77-a92b-36e1974a410f"
      },
      "source": [
        "sns.boxplot(data=autolib_dayseason17, x='dayofweek', y='bluecars_taken');\n",
        "plt.xlabel(\"Day of Week (0-Mon, 4-Fri)\", fontsize=15)\n",
        "plt.ylabel(\"Blue Cars Taken\", fontsize=15)\n",
        "plt.title(\"Weekly Seasonality for Blue Cars Taken in Area/Postal Code 75017\", fontsize=15)"
      ],
      "execution_count": 74,
      "outputs": [
        {
          "output_type": "execute_result",
          "data": {
            "text/plain": [
              "Text(0.5, 1.0, 'Weekly Seasonality for Blue Cars Taken in Area/Postal Code 75017')"
            ]
          },
          "metadata": {
            "tags": []
          },
          "execution_count": 74
        },
        {
          "output_type": "display_data",
          "data": {
            "image/png": "[encoded data removed]",
            "text/plain": [
              "<Figure size 432x288 with 1 Axes>"
            ]
          },
          "metadata": {
            "tags": []
          }
        }
      ]
    },
    {
      "cell_type": "markdown",
      "metadata": {
        "id": "E5IbfIz4b0x2",
        "colab_type": "text"
      },
      "source": [
        "Weekly Seasonality for Area 75017 indicates less Bluecars taken on Thursday and Wednesday. So there's no steady increase from Monday to Friday."
      ]
    },
    {
      "cell_type": "markdown",
      "metadata": {
        "id": "l_-ZTLpnJzVz",
        "colab_type": "text"
      },
      "source": [
        "Overal Analysis indicates that Blue Cars taken in area 75015 is more than Blue Cars taken in area 75017"
      ]
    },
    {
      "cell_type": "markdown",
      "metadata": {
        "colab_type": "text",
        "id": "UrnkqDAlUmNj"
      },
      "source": [
        "## 1.6 Implementing the solution through Hypothesis Testing"
      ]
    },
    {
      "cell_type": "markdown",
      "metadata": {
        "colab_type": "text",
        "id": "lvlrvw6hv8k9"
      },
      "source": [
        "#### <font color=\"green\">Formulating the Null and Alternative Hypotheses<font/>"
      ]
    },
    {
      "cell_type": "markdown",
      "metadata": {
        "id": "rxXFAnwLdq2b",
        "colab_type": "text"
      },
      "source": [
        "\n",
        "\n",
        "*   Ho : The number of Blue Cars taken in area/postal code 75015 and 75015 are the same\n",
        "\n",
        "\n",
        "*   Ha : The number of Blue Cars taken in area/postal code 75015 is different from Blue Cars taken in area/postal code 75017 (CLAIM)\n",
        "\n"
      ]
    },
    {
      "cell_type": "markdown",
      "metadata": {
        "id": "lJ_KTThjelIq",
        "colab_type": "text"
      },
      "source": [
        "Writing the Ho and Ha in mathematical form noting that Null Hypotheses are identified by equality\n",
        "\n",
        "1.   Ho : Bluecarstaken in 75015 = Bluecarstaken in 75017 \n",
        "\n",
        "2.   Ha : Bluecarstaken in 75015 != Bluecarstaken in 75017(CLAIM)\n",
        "\n"
      ]
    },
    {
      "cell_type": "markdown",
      "metadata": {
        "colab_type": "text",
        "id": "OEyzLpWZy7yn"
      },
      "source": [
        "#### <font color=\"green\">Choosing Sample Size and Level of Significance as 5%<font/>"
      ]
    },
    {
      "cell_type": "markdown",
      "metadata": {
        "id": "PRfECCXl1pJk",
        "colab_type": "text"
      },
      "source": [
        "Sampling technique used is Stratified Random sampling to break the population into area 75015 and 75017 subgroups and obtaining a simple random sample from each group."
      ]
    },
    {
      "cell_type": "code",
      "metadata": {
        "id": "TNK_R2Xch6gS",
        "colab_type": "code",
        "colab": {
          "base_uri": "https://localhost:8080/",
          "height": 85
        },
        "outputId": "0352a9ce-24d8-448b-8a08-de5244091fa8"
      },
      "source": [
        "#Merging the two subgroup original population datasets autolib75015 and autolib75017 to population\n",
        "population = pd.concat([autolib75015,autolib75017])\n",
        "print(\"population is \",population.groupby('postal_code').count())"
      ],
      "execution_count": 69,
      "outputs": [
        {
          "output_type": "stream",
          "text": [
            "population is               bluecars_taken\n",
            "postal_code                \n",
            "75015                   112\n",
            "75017                   112\n"
          ],
          "name": "stdout"
        }
      ]
    },
    {
      "cell_type": "code",
      "metadata": {
        "id": "hJnbZLz-3-p1",
        "colab_type": "code",
        "colab": {
          "base_uri": "https://localhost:8080/",
          "height": 68
        },
        "outputId": "5f10c245-de71-4e34-aa15-2067a829cd10"
      },
      "source": [
        "# Stratified sample\n",
        "strat_sample = population.groupby('postal_code', group_keys=False).apply(lambda grouped_subset : grouped_subset.sample(frac=0.3))\n",
        "\n",
        "#Proportion of the stratified sample\n",
        "print(strat_sample['postal_code'].value_counts())"
      ],
      "execution_count": 94,
      "outputs": [
        {
          "output_type": "stream",
          "text": [
            "75017    34\n",
            "75015    34\n",
            "Name: postal_code, dtype: int64\n"
          ],
          "name": "stdout"
        }
      ]
    },
    {
      "cell_type": "markdown",
      "metadata": {
        "id": "K0T_Yfve4M1s",
        "colab_type": "text"
      },
      "source": [
        "Our sample size is 68 out of 224"
      ]
    },
    {
      "cell_type": "markdown",
      "metadata": {
        "colab_type": "text",
        "id": "j8YcGQ4i4ryn"
      },
      "source": [
        "#### <font color=\"green\">Choosing the Test Statistic and finding the P Value<font/>"
      ]
    },
    {
      "cell_type": "markdown",
      "metadata": {
        "id": "9wdymqo35DXt",
        "colab_type": "text"
      },
      "source": [
        "Test Statistic chosen is the One Sample Z-Test because we have the population standard deviation from univariate summary statistics"
      ]
    },
    {
      "cell_type": "code",
      "metadata": {
        "id": "esKsjGwl6-Tq",
        "colab_type": "code",
        "colab": {
          "base_uri": "https://localhost:8080/",
          "height": 51
        },
        "outputId": "4ad3453d-2d56-4d36-f8b5-2164c60f47c7"
      },
      "source": [
        "from scipy.stats import norm\n",
        "from scipy import stats\n",
        "import math\n",
        "\n",
        "pop_mean = 125.93   #From summary statistics in univariate summary\n",
        "n = 68\n",
        "sample_mean = strat_sample['bluecars_taken'].mean()\n",
        "alpha = 0.05\n",
        "pop_std = 185.42  #From summary statistics in univariate summary\n",
        "\n",
        "#Calculating Z score\n",
        "zscore = ( sample_mean-pop_mean ) / 185.42\n",
        "\n",
        "#Finding the P Value given that the Null Hypothesis is TRUE\n",
        "pval = stats.norm.cdf(zscore) * 2  #Since its a two tailed test as per the alternative Ha (ie presence of !=)\n",
        "print(\" Z-Score is :\", zscore)\n",
        "print(\" P Value is :\", pval)"
      ],
      "execution_count": 95,
      "outputs": [
        {
          "output_type": "stream",
          "text": [
            " Z-Score is : 3.4891185036197636\n",
            " P Value is : 1.9995153837440762\n"
          ],
          "name": "stdout"
        }
      ]
    },
    {
      "cell_type": "code",
      "metadata": {
        "id": "0ZyaoKmTjf4T",
        "colab_type": "code",
        "colab": {
          "base_uri": "https://localhost:8080/",
          "height": 105
        },
        "outputId": "310be9c7-0684-42c7-bf5b-559ae4976a8f"
      },
      "source": [
        "#Constructing a confidence interval around the parameter\n",
        "from scipy.stats import sem, t\n",
        "from scipy import mean\n",
        "confidence = 0.95\n",
        "data = strat_sample['bluecars_taken']\n",
        "\n",
        "n = len(data)\n",
        "m = mean(data)\n",
        "std_err = sem(data)\n",
        "h = std_err * t.ppf((1 + confidence) / 2, n - 1)\n",
        "\n",
        "start = m - h\n",
        "end = m + h\n",
        "\n",
        "print(\"The start is :\",round(start))\n",
        "print(\"The end is :\",round(end))"
      ],
      "execution_count": 97,
      "outputs": [
        {
          "output_type": "stream",
          "text": [
            "The start is : 747.0\n",
            "The end is : 799.0\n"
          ],
          "name": "stdout"
        },
        {
          "output_type": "stream",
          "text": [
            "/usr/local/lib/python3.6/dist-packages/ipykernel_launcher.py:8: DeprecationWarning: scipy.mean is deprecated and will be removed in SciPy 2.0.0, use numpy.mean instead\n",
            "  \n"
          ],
          "name": "stderr"
        }
      ]
    },
    {
      "cell_type": "markdown",
      "metadata": {
        "colab_type": "text",
        "id": "KTPDblB5BRwK"
      },
      "source": [
        "#### <font color=\"green\">Interpreting P Value and drawing a conclusion<font/>\n",
        "\n",
        "Theres the possibility of having Type Two Errors in this Hypothesis Test in the event that:\n",
        "\n",
        " *   We fail to reject the null hypothesis when in real sense it is false\n",
        "\n",
        "\n"
      ]
    },
    {
      "cell_type": "code",
      "metadata": {
        "id": "LTwNZSEqBa5w",
        "colab_type": "code",
        "colab": {
          "base_uri": "https://localhost:8080/",
          "height": 68
        },
        "outputId": "645fc82f-ce05-4109-d378-b382bd29af3b"
      },
      "source": [
        "if pval >alpha:\n",
        "  print(\"We fail to reject null hypothesis\")\n",
        "  print(\"Conclusion:\")\n",
        "  print(\"Theres no sufficient statistical evidence to support the claim that Bluecarstaken in 75015 != Bluecarstaken in 75017 at the 5% level of significance\")\n",
        "else:\n",
        "  print(\"We reject null the hypothesis\")\n",
        "  print(\"Conclusion:\")\n",
        "  print(\"Theres is sufficient statistical evidence to support the claim that Bluecarstaken in 75015 != Bluecarstaken in 75017 at the 5% level of significance\")"
      ],
      "execution_count": 72,
      "outputs": [
        {
          "output_type": "stream",
          "text": [
            "We fail to reject null hypothesis\n",
            "Conclusion:\n",
            "Theres no sufficient statistical evidence to support the claim that Bluecarstaken in 75015 != Bluecarstaken in 75017 at the 5% level of significance\n"
          ],
          "name": "stdout"
        }
      ]
    },
    {
      "cell_type": "markdown",
      "metadata": {
        "id": "IQIvYW_KHm5Z",
        "colab_type": "text"
      },
      "source": [
        "#### Conclusion:\n",
        "Theres no sufficient statistical evidence to support the claim that Bluecarstaken in 75015 != Bluecarstaken in 75017 at the 5% level of significance\n",
        "\n",
        "*   This is a Type II error because the Null Hypothesis is False\n",
        "\n",
        "\n"
      ]
    }
  ]
}